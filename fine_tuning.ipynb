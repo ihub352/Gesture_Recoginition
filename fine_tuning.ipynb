{
 "cells": [
  {
   "cell_type": "code",
   "execution_count": null,
   "metadata": {},
   "outputs": [],
   "source": [
    "#downloading yolov5s.pt file\n",
    "import urllib.request\n",
    "\n",
    "# URL of the YOLOv5s pretrained model\n",
    "model_url = \"https://github.com/ultralytics/yolov5/releases/download/v6.0/yolov5s.pt\"\n",
    "\n",
    "# Path where the model will be saved\n",
    "save_path = \"yolov5s.pt\"\n",
    "\n",
    "# Download the file\n",
    "print(\"Downloading yolov5s.pt...\")\n",
    "urllib.request.urlretrieve(model_url, save_path)\n",
    "print(\"Download complete! Model saved as 'yolov5s.pt'.\")"
   ]
  },
  {
   "cell_type": "code",
   "execution_count": null,
   "metadata": {},
   "outputs": [],
   "source": [
    "#cloning yolov5 directory\n",
    "!git clone https://github.com/ultralytics/yolov5.git\n"
   ]
  },
  {
   "cell_type": "code",
   "execution_count": null,
   "metadata": {},
   "outputs": [],
   "source": [
    "#training the yolov5 model using the yolov5s.pt weights \n",
    "#if using GPU \n",
    "!python yolov5/train.py --img 640 --batch 16 --epochs 50 --data \"path_to_dataset_yaml_file\" --weights \"path_to_yolov5s.pt\" --device 0\n",
    "#if using CPU\n",
    "#!python yolov5/train.py --img 640 --batch 16 --epochs 50 --data \"path_to_dataset_yaml_file\" --weights \"path_to_yolov5s.pt\" --device cpu\n"
   ]
  }
 ],
 "metadata": {
  "language_info": {
   "name": "python"
  }
 },
 "nbformat": 4,
 "nbformat_minor": 2
}
