{
 "cells": [
  {
   "cell_type": "code",
   "execution_count": null,
   "metadata": {},
   "outputs": [],
   "source": [
    "import torch\n",
    "import cv2\n",
    "\n",
    "\n",
    "# Load custom-trained YOLOv5 model from local repo\n",
    "custom_model = torch.hub.load('path_to_yolov5_directory', 'custom', path='path_to_yolov5_directory/runs/train/exp/weights/best.pt', source='local')\n",
    "\n",
    "# Choose which model to use\n",
    "model = custom_model  # Use 'custom_model' for your custom-trained model\n",
    "\n",
    "# Open the webcam (0 is the default camera)\n",
    "cap = cv2.VideoCapture(0)\n",
    "\n",
    "while True:\n",
    "    # Read a frame from the webcam\n",
    "    ret, frame = cap.read()\n",
    "    \n",
    "    if not ret:\n",
    "        print(\"Failed to capture image\")\n",
    "        break\n",
    "    \n",
    "    # Convert the frame to RGB (YOLOv5 expects RGB images)\n",
    "    frame_rgb = cv2.cvtColor(frame, cv2.COLOR_BGR2RGB)\n",
    "    \n",
    "    # Run inference on the frame\n",
    "    results = model(frame_rgb)\n",
    "\n",
    "    # Render the results on the frame (optional, depending on how you want to display it)\n",
    "    # This draws bounding boxes on the frame\n",
    "    results.render()  \n",
    "    # Convert back to BGR before displaying\n",
    "    frame_with_detections = cv2.cvtColor(results.ims[0], cv2.COLOR_RGB2BGR)\n",
    "    \n",
    "    # Show the frame with the detections\n",
    "    cv2.imshow(\"Webcam Feed with YOLOv5 Detections\", frame_with_detections)\n",
    "  \n",
    "    # Exit if the user presses the 'q' key\n",
    "    if cv2.waitKey(1) & 0xFF == ord('q'):\n",
    "        break\n",
    "\n",
    "# Release the webcam and close any open windows\n",
    "cap.release()\n",
    "cv2.destroyAllWindows()\n"
   ]
  },
  {
   "cell_type": "code",
   "execution_count": null,
   "metadata": {},
   "outputs": [],
   "source": []
  }
 ],
 "metadata": {
  "kernelspec": {
   "display_name": "Python 3",
   "language": "python",
   "name": "python3"
  },
  "language_info": {
   "codemirror_mode": {
    "name": "ipython",
    "version": 3
   },
   "file_extension": ".py",
   "mimetype": "text/x-python",
   "name": "python",
   "nbconvert_exporter": "python",
   "pygments_lexer": "ipython3",
   "version": "3.9.2"
  }
 },
 "nbformat": 4,
 "nbformat_minor": 2
}
