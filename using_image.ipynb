{
 "cells": [
  {
   "cell_type": "code",
   "execution_count": null,
   "metadata": {},
   "outputs": [],
   "source": [
    "import torch\n",
    "import cv2\n",
    "\n",
    "# Load custom-trained YOLOv5 model from local repo\n",
    "custom_model = torch.hub.load('path_to_your_yolov5', 'custom', path='path_to_your_custom_finetuned_best.pt', source='local')\n",
    "\n",
    "# Use 'custom_model' for your custom-trained model\n",
    "model = custom_model \n",
    "\n",
    "# Load test image\n",
    "image_path = \"test_image.jpg\"\n",
    "image = cv2.imread(image_path)\n",
    "image_rgb = cv2.cvtColor(image, cv2.COLOR_BGR2RGB)\n",
    "\n",
    "# Run inference\n",
    "results = model(image_rgb)\n",
    "\n",
    "\n",
    "# Show results\n",
    "results.show()  # This will display the image with bounding boxes\n",
    "\n"
   ]
  }
 ],
 "metadata": {
  "kernelspec": {
   "display_name": "Python 3",
   "language": "python",
   "name": "python3"
  },
  "language_info": {
   "name": "python",
   "version": "3.9.2"
  }
 },
 "nbformat": 4,
 "nbformat_minor": 2
}
